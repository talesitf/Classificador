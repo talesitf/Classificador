{
 "cells": [
  {
   "cell_type": "markdown",
   "metadata": {},
   "source": [
    "# Projeto 1 - Ciência dos Dados"
   ]
  },
  {
   "cell_type": "markdown",
   "metadata": {},
   "source": [
    "Nome: _Tales Ivalque_\n",
    "\n",
    "Nome: _Andrei Melo_"
   ]
  },
  {
   "cell_type": "markdown",
   "metadata": {},
   "source": [
    "Atenção: Serão permitidos grupos de três pessoas, mas com uma rubrica mais exigente. Grupos deste tamanho precisarão fazer um questionário de avaliação de trabalho em equipe"
   ]
  },
  {
   "cell_type": "markdown",
   "metadata": {},
   "source": [
    "___\n",
    "Carregando algumas bibliotecas:"
   ]
  },
  {
   "cell_type": "code",
   "execution_count": 4,
   "metadata": {},
   "outputs": [],
   "source": [
    "#Rode se não tiver a biblioteca instalada :\n",
    "#!pip install unidecode\n",
    "#!pip install re\n",
    "#!pip install seaborn\n",
    "#!pip install nltk"
   ]
  },
  {
   "cell_type": "code",
   "execution_count": 5,
   "metadata": {},
   "outputs": [],
   "source": [
    "%matplotlib inline\n",
    "from IPython.display import display\n",
    "import pandas as pd\n",
    "import matplotlib.pyplot as plt\n",
    "import numpy as np\n",
    "import os\n",
    "import re\n",
    "import unidecode\n",
    "import seaborn as sn\n",
    "from nltk import SnowballStemmer\n",
    "from nltk.corpus import stopwords\n"
   ]
  },
  {
   "cell_type": "code",
   "execution_count": 6,
   "metadata": {},
   "outputs": [],
   "source": [
    "# para eliminar as preposições usei o link a seguir como referencia\n",
    "# https://stackoverflow.com/questions/29523254/python-remove-stop-words-from-pandas-dataframe\n",
    "import nltk "
   ]
  },
  {
   "cell_type": "code",
   "execution_count": 7,
   "metadata": {
    "scrolled": false
   },
   "outputs": [
    {
     "name": "stdout",
     "output_type": "stream",
     "text": [
      "Esperamos trabalhar no diretório\n",
      "C:\\Users\\TalesITF\\OneDrive - Insper - Institudo de Ensino e Pesquisa\\Documentos\\GitHub\\22-1b-cd-p1-grupo_talandrei\n"
     ]
    }
   ],
   "source": [
    "print('Esperamos trabalhar no diretório')\n",
    "print(os.getcwd())"
   ]
  },
  {
   "cell_type": "markdown",
   "metadata": {},
   "source": [
    "Carregando a base de dados com as notícias classificadas manualmente como Relevantes e Irrelevantes:"
   ]
  },
  {
   "cell_type": "code",
   "execution_count": 8,
   "metadata": {},
   "outputs": [],
   "source": [
    "filename = 'dados.xlsx'"
   ]
  },
  {
   "cell_type": "code",
   "execution_count": 9,
   "metadata": {},
   "outputs": [
    {
     "data": {
      "text/html": [
       "<div>\n",
       "<style scoped>\n",
       "    .dataframe tbody tr th:only-of-type {\n",
       "        vertical-align: middle;\n",
       "    }\n",
       "\n",
       "    .dataframe tbody tr th {\n",
       "        vertical-align: top;\n",
       "    }\n",
       "\n",
       "    .dataframe thead th {\n",
       "        text-align: right;\n",
       "    }\n",
       "</style>\n",
       "<table border=\"1\" class=\"dataframe\">\n",
       "  <thead>\n",
       "    <tr style=\"text-align: right;\">\n",
       "      <th></th>\n",
       "      <th>Categoria</th>\n",
       "      <th>Titulo</th>\n",
       "      <th>PrimeiroParag</th>\n",
       "      <th>Data</th>\n",
       "      <th>Pagina</th>\n",
       "      <th>Target</th>\n",
       "    </tr>\n",
       "  </thead>\n",
       "  <tbody>\n",
       "    <tr>\n",
       "      <th>0</th>\n",
       "      <td>Mercados</td>\n",
       "      <td>Vale (VALE3): Por que as ações tiveram um dos ...</td>\n",
       "      <td>As ações da Vale (VALE3) tiveram um dos piores...</td>\n",
       "      <td>08/03/2022 - 19:35</td>\n",
       "      <td>4</td>\n",
       "      <td>RELEVANTE</td>\n",
       "    </tr>\n",
       "    <tr>\n",
       "      <th>1</th>\n",
       "      <td>Invasão da Ucrânia</td>\n",
       "      <td>Rússia invade Ucrânia: Veja as primeiras fotos...</td>\n",
       "      <td>O presidente Vladimir Putin autorizou, na noit...</td>\n",
       "      <td>24/02/2022 - 10:10</td>\n",
       "      <td>41</td>\n",
       "      <td>IRRELEVANTE</td>\n",
       "    </tr>\n",
       "    <tr>\n",
       "      <th>2</th>\n",
       "      <td>Economia</td>\n",
       "      <td>Brasil é beneficiado por empresas que convivem...</td>\n",
       "      <td>O presidente do Banco Central, Roberto Campos ...</td>\n",
       "      <td>22/02/2022 - 16:53</td>\n",
       "      <td>47</td>\n",
       "      <td>IRRELEVANTE</td>\n",
       "    </tr>\n",
       "    <tr>\n",
       "      <th>3</th>\n",
       "      <td>Resultados</td>\n",
       "      <td>Bayer supera expectativa e tem lucro líquido d...</td>\n",
       "      <td>A Bayer obteve lucro líquido de 1,16 bilhão de...</td>\n",
       "      <td>02/03/2022 - 11:23</td>\n",
       "      <td>24</td>\n",
       "      <td>RELEVANTE</td>\n",
       "    </tr>\n",
       "    <tr>\n",
       "      <th>4</th>\n",
       "      <td>Colunista Vitreo</td>\n",
       "      <td>Pré-Mercado: E o petróleo vai às alturas</td>\n",
       "      <td>O mercado sofre bastante internacionalmente, a...</td>\n",
       "      <td>07/03/2022 - 8:46</td>\n",
       "      <td>11</td>\n",
       "      <td>RELEVANTE</td>\n",
       "    </tr>\n",
       "  </tbody>\n",
       "</table>\n",
       "</div>"
      ],
      "text/plain": [
       "             Categoria                                             Titulo  \\\n",
       "0            Mercados   Vale (VALE3): Por que as ações tiveram um dos ...   \n",
       "1  Invasão da Ucrânia   Rússia invade Ucrânia: Veja as primeiras fotos...   \n",
       "2            Economia   Brasil é beneficiado por empresas que convivem...   \n",
       "3          Resultados   Bayer supera expectativa e tem lucro líquido d...   \n",
       "4    Colunista Vitreo            Pré-Mercado: E o petróleo vai às alturas   \n",
       "\n",
       "                                       PrimeiroParag                Data  \\\n",
       "0  As ações da Vale (VALE3) tiveram um dos piores...  08/03/2022 - 19:35   \n",
       "1  O presidente Vladimir Putin autorizou, na noit...  24/02/2022 - 10:10   \n",
       "2  O presidente do Banco Central, Roberto Campos ...  22/02/2022 - 16:53   \n",
       "3  A Bayer obteve lucro líquido de 1,16 bilhão de...  02/03/2022 - 11:23   \n",
       "4  O mercado sofre bastante internacionalmente, a...   07/03/2022 - 8:46   \n",
       "\n",
       "   Pagina       Target  \n",
       "0       4    RELEVANTE  \n",
       "1      41  IRRELEVANTE  \n",
       "2      47  IRRELEVANTE  \n",
       "3      24    RELEVANTE  \n",
       "4      11    RELEVANTE  "
      ]
     },
     "execution_count": 9,
     "metadata": {},
     "output_type": "execute_result"
    }
   ],
   "source": [
    "train = pd.read_excel(filename, sheet_name = 'Treinamento')\n",
    "train.head(5)"
   ]
  },
  {
   "cell_type": "code",
   "execution_count": 10,
   "metadata": {},
   "outputs": [
    {
     "data": {
      "text/html": [
       "<div>\n",
       "<style scoped>\n",
       "    .dataframe tbody tr th:only-of-type {\n",
       "        vertical-align: middle;\n",
       "    }\n",
       "\n",
       "    .dataframe tbody tr th {\n",
       "        vertical-align: top;\n",
       "    }\n",
       "\n",
       "    .dataframe thead th {\n",
       "        text-align: right;\n",
       "    }\n",
       "</style>\n",
       "<table border=\"1\" class=\"dataframe\">\n",
       "  <thead>\n",
       "    <tr style=\"text-align: right;\">\n",
       "      <th></th>\n",
       "      <th>Categoria</th>\n",
       "      <th>Titulo</th>\n",
       "      <th>PrimeiroParag</th>\n",
       "      <th>Data</th>\n",
       "      <th>Pagina</th>\n",
       "      <th>Target</th>\n",
       "    </tr>\n",
       "  </thead>\n",
       "  <tbody>\n",
       "    <tr>\n",
       "      <th>0</th>\n",
       "      <td>Internacional</td>\n",
       "      <td>Joe Biden: 20 frases marcantes de seu 1º discu...</td>\n",
       "      <td>NaN</td>\n",
       "      <td>01/03/2022 - 22:56</td>\n",
       "      <td>25</td>\n",
       "      <td>IRRELEVANTE</td>\n",
       "    </tr>\n",
       "    <tr>\n",
       "      <th>1</th>\n",
       "      <td>Política</td>\n",
       "      <td>Biden anuncia proibição dos EUA a importações ...</td>\n",
       "      <td>O presidente dos Estados Unidos, Joe Biden, an...</td>\n",
       "      <td>08/03/2022 - 13:52</td>\n",
       "      <td>6</td>\n",
       "      <td>RELEVANTE</td>\n",
       "    </tr>\n",
       "    <tr>\n",
       "      <th>2</th>\n",
       "      <td>Internacional</td>\n",
       "      <td>China critica EUA e não condena Rússia por açã...</td>\n",
       "      <td>A China se recusou a condenar o ataque da Rúss...</td>\n",
       "      <td>24/02/2022 - 12:08</td>\n",
       "      <td>40</td>\n",
       "      <td>IRRELEVANTE</td>\n",
       "    </tr>\n",
       "    <tr>\n",
       "      <th>3</th>\n",
       "      <td>Mercados</td>\n",
       "      <td>S&amp;P 500 abre em forte queda após Rússia atacar...</td>\n",
       "      <td>As bolsas dos Estados Unidos abriram em forte ...</td>\n",
       "      <td>24/02/2022 - 11:37</td>\n",
       "      <td>40</td>\n",
       "      <td>RELEVANTE</td>\n",
       "    </tr>\n",
       "    <tr>\n",
       "      <th>4</th>\n",
       "      <td>Carteira Recomendada</td>\n",
       "      <td>Genial faz duas alterações em carteira recomen...</td>\n",
       "      <td>A Genial Investimentos fez duas alterações em ...</td>\n",
       "      <td>28/02/2022 - 15:53</td>\n",
       "      <td>27</td>\n",
       "      <td>IRRELEVANTE</td>\n",
       "    </tr>\n",
       "  </tbody>\n",
       "</table>\n",
       "</div>"
      ],
      "text/plain": [
       "               Categoria                                             Titulo  \\\n",
       "0         Internacional   Joe Biden: 20 frases marcantes de seu 1º discu...   \n",
       "1              Política   Biden anuncia proibição dos EUA a importações ...   \n",
       "2         Internacional   China critica EUA e não condena Rússia por açã...   \n",
       "3              Mercados   S&P 500 abre em forte queda após Rússia atacar...   \n",
       "4  Carteira Recomendada   Genial faz duas alterações em carteira recomen...   \n",
       "\n",
       "                                       PrimeiroParag                Data  \\\n",
       "0                                                NaN  01/03/2022 - 22:56   \n",
       "1  O presidente dos Estados Unidos, Joe Biden, an...  08/03/2022 - 13:52   \n",
       "2  A China se recusou a condenar o ataque da Rúss...  24/02/2022 - 12:08   \n",
       "3  As bolsas dos Estados Unidos abriram em forte ...  24/02/2022 - 11:37   \n",
       "4  A Genial Investimentos fez duas alterações em ...  28/02/2022 - 15:53   \n",
       "\n",
       "   Pagina       Target  \n",
       "0      25  IRRELEVANTE  \n",
       "1       6    RELEVANTE  \n",
       "2      40  IRRELEVANTE  \n",
       "3      40    RELEVANTE  \n",
       "4      27  IRRELEVANTE  "
      ]
     },
     "execution_count": 10,
     "metadata": {},
     "output_type": "execute_result"
    }
   ],
   "source": [
    "test = pd.read_excel(filename, sheet_name = 'Teste')\n",
    "test.head(5)"
   ]
  },
  {
   "cell_type": "markdown",
   "metadata": {},
   "source": [
    "___\n",
    "## Classificador automático\n"
   ]
  },
  {
   "cell_type": "markdown",
   "metadata": {},
   "source": [
    "Faça aqui uma descrição do seu assunto e o que considerou como relevante ou não relevante na classificação das notícias (Target).\n",
    "\n",
    "Nos últimos meses, a tensão militar entre a Rússia e a Ucrânia evoluiu em uma guerra. E, como o conflito envolve uma das grandes potências mundiais, deve-se entender que a economia mundial sofrerá algumas mudanças. Assim, esse projeto visa filtrar as notícias que falam sobre essas mudanças.\n",
    "\n",
    "Utilizando o classificador automático buscamos discernir a relevência econômica de notícias sobre a guerra, no caso, quais notícias falam sobre consequências econômicas em detrimento da guerra, indepedente de ser positiva ou negativa. Com isso, notícias que trazem fatos apenas sobre as relações políticas, estritamente militares ou que tangeciam o aspecto econômico foram consideradas irrelevantes para o classificador."
   ]
  },
  {
   "cell_type": "markdown",
   "metadata": {},
   "source": [
    "### Procedimentos Iniciais"
   ]
  },
  {
   "cell_type": "markdown",
   "metadata": {},
   "source": [
    "Aqui, vamos definir algumas funções muito pertinentes para a limpeza das notícias do nosso classificador.\n",
    "Cobrindo os procedimentos de:\n",
    "\n",
    "#### 1) Lower case\n",
    "        No qual todas as letras ficam minúsculas\n",
    "#### 2) Pontuação\n",
    "        Onde vamos limpar os sinais de pontuação\n",
    "#### 3) Acentuação\n",
    "        Vamos retirar os acentos das letras\n",
    "#### 4) Stemming\n",
    "        Aqui as palavras se reduzem ao radical para facilitar aglomeração"
   ]
  },
  {
   "cell_type": "code",
   "execution_count": 11,
   "metadata": {},
   "outputs": [],
   "source": [
    "#Primeira limpeza\n",
    "stemmer = SnowballStemmer('portuguese')\n",
    "\n",
    "def clean_frase(frase):\n",
    "    #Transforma tudo em minúsculo\n",
    "    aux = str(frase)\n",
    "    \n",
    "    aux = aux.lower()\n",
    "    \n",
    "    #Retira toda a pontuação\n",
    "    aux = re.sub('[()!?:.%&,]', ' ', aux)\n",
    "    aux = re.sub('\\[.*?\\-]',' ', aux)\n",
    "    \n",
    "    aux = re.sub('123456789',' ',aux)\n",
    "    #Remove acentos\n",
    "    aux = unidecode.unidecode(aux)\n",
    "    \n",
    "    #Reduz ao radical\n",
    "    aux_2 = ''\n",
    "    lista_palavras = aux.split()\n",
    "    for palavra in lista_palavras:\n",
    "        new_p = stemmer.stem(palavra)\n",
    "        aux_2 += new_p + ' '\n",
    "    aux = aux_2.rstrip()\n",
    "    return aux"
   ]
  },
  {
   "cell_type": "code",
   "execution_count": 12,
   "metadata": {},
   "outputs": [],
   "source": [
    "#String para lista e lista para string\n",
    "#'token' transforma uma frase em lista de palavras, de forma a ser possível acessar uma a uma\n",
    "#'corda' transforma uma lista em uma string, função auxiliar do programa\n",
    "\n",
    "def token(frase):\n",
    "    frase = str(frase)\n",
    "    return frase.split()\n",
    "\n",
    "def corda(lista):\n",
    "    return ' '.join(lista)"
   ]
  },
  {
   "cell_type": "code",
   "execution_count": 13,
   "metadata": {},
   "outputs": [
    {
     "name": "stderr",
     "output_type": "stream",
     "text": [
      "[nltk_data] Downloading package stopwords to\n",
      "[nltk_data]     C:\\Users\\TalesITF\\AppData\\Roaming\\nltk_data...\n",
      "[nltk_data]   Package stopwords is already up-to-date!\n"
     ]
    }
   ],
   "source": [
    "# Segunda limpeza\n",
    "# Aqui contabilizaremos e vamos retirar as 'stop words' de uma lista de palavras\n",
    "nltk.download('stopwords')\n",
    "prep = stopwords.words('Portuguese')\n",
    "\n",
    "def out_stopwords(token):\n",
    "    clean = []\n",
    "    for word in token:\n",
    "        if word not in prep:\n",
    "            clean.append(word)\n",
    "    return clean"
   ]
  },
  {
   "cell_type": "code",
   "execution_count": 14,
   "metadata": {},
   "outputs": [],
   "source": [
    "#Função geral de limpeza\n",
    "def limpatudo(noticia):\n",
    "    return corda(out_stopwords(token(clean_frase(noticia))))"
   ]
  },
  {
   "cell_type": "code",
   "execution_count": 15,
   "metadata": {},
   "outputs": [],
   "source": [
    "#Função para gerar um pd.Series com as palvras de uma frase\n",
    "def serie(frase):\n",
    "    frase += ' '\n",
    "    return pd.Series(token(frase.sum()))"
   ]
  },
  {
   "cell_type": "markdown",
   "metadata": {},
   "source": [
    "___\n",
    "### Montando um Classificador Naive-Bayes\n",
    "\n",
    "Considerando apenas as mensagens da planilha Treinamento, ensine  seu classificador."
   ]
  },
  {
   "cell_type": "markdown",
   "metadata": {},
   "source": [
    "#### Modelo Bolsa de Palavras:\n",
    "Consiste na contagem da aparição de cada palavras dentro de um conjunto de textos. Faz-se isso pela formação de uma estrutura de dados que armazena cada uso de palavras para poder criar um vetor com **n** dimensões, onde **n** é o número de palavras distintas entre si, que armazena a quantidade de aparições de cada palavra no documento."
   ]
  },
  {
   "cell_type": "code",
   "execution_count": 16,
   "metadata": {},
   "outputs": [],
   "source": [
    "#Separa as notícias relevante e irrelevantes para o treinamento\n",
    "treino_rel = train[train['Target']=='RELEVANTE']\n",
    "treino_irrel = train[train['Target']=='IRRELEVANTE']"
   ]
  },
  {
   "cell_type": "code",
   "execution_count": 17,
   "metadata": {},
   "outputs": [],
   "source": [
    "#Cria novas variáveis com as notícias limpas\n",
    "treino_rel_clean = treino_rel.Titulo.apply(limpatudo)\n",
    "treino_irrel_clean = treino_irrel.Titulo.apply(limpatudo)"
   ]
  },
  {
   "cell_type": "code",
   "execution_count": 18,
   "metadata": {},
   "outputs": [],
   "source": [
    "#Transforma as variáveis em listas\n",
    "palavras_rel = serie(treino_rel_clean)\n",
    "palavras_irrel = serie(treino_irrel_clean)"
   ]
  },
  {
   "cell_type": "code",
   "execution_count": 19,
   "metadata": {},
   "outputs": [],
   "source": [
    "# Adquire uma lista que contém todas as palvaras sem repeti-las\n",
    "list_rel = list(palavras_rel)\n",
    "list_irrel = list(palavras_irrel)\n",
    "list_total = list_rel + list_irrel\n",
    "\n",
    "list_sem_repeticao = set(list_total)"
   ]
  },
  {
   "cell_type": "code",
   "execution_count": 20,
   "metadata": {},
   "outputs": [],
   "source": [
    "# Conseguindo a contagem da frequência absoluta de cada palavra separado por relevância e total a partir do pd.value_counts\n",
    "freq_abs_rel = palavras_rel.value_counts()\n",
    "freq_abs_irrel = palavras_irrel.value_counts()\n",
    "freq_abs_total = pd.Series(list_total).value_counts()"
   ]
  },
  {
   "cell_type": "markdown",
   "metadata": {},
   "source": [
    "## Probabilidades"
   ]
  },
  {
   "cell_type": "code",
   "execution_count": 21,
   "metadata": {},
   "outputs": [],
   "source": [
    "#Probabilidade de uma frase qualquer ser relevante(P_R) ou irrelevante(P_Ir)\n",
    "#P_R + P_Ir = P_R + P_Rc = 1\n",
    "\n",
    "P_R = len(list_rel)/len(list_total)\n",
    "P_Ir = len(list_irrel)/len(list_total)"
   ]
  },
  {
   "cell_type": "markdown",
   "metadata": {},
   "source": [
    "#### Probabilidades condicionais\n",
    "\n",
    "O Teorema de Bayes estipula o uso de probabilidades independentes para o cálculo de probabilidades condicionais, isto é a probabilidade de um evento acontecer dado que outro tenha acontecido.\n",
    "Para isso, utiliza-se as relações:\n",
    "\n",
    "-$\\quad P(Rel|frase) = \\frac{P(frase|Rel)P(Rel)}{P(frase)}$ \n",
    "\n",
    "-$\\quad P(Irrel|frase) = \\frac{P(frase|Irrel)P(Irrel)}{P(frase)}$\n",
    "\n",
    "Legenda:\n",
    "    \n",
    "-$\\quad P(frase|Rel)$ = Probabilidade de uma frase dada qualquer ser relevante\n",
    "    \n",
    "-$\\quad P(frase|Irrel)$ = Probabilidade de uma frase dada qualquer ser irrelevante\n",
    "    \n",
    "-$\\quad P(Rel)$ = Probabilidade de uma frase ser relevante na base de dados\n",
    "    \n",
    "-$\\quad P(Irrel)$ = Probabilidade de uma frase ser irrelevante na base de dados\n",
    "\n",
    "-$\\quad P(frase) = P(Rel) + P(Irrel) $"
   ]
  },
  {
   "cell_type": "markdown",
   "metadata": {},
   "source": [
    "#### Suavização de LaPlace"
   ]
  },
  {
   "cell_type": "code",
   "execution_count": 22,
   "metadata": {},
   "outputs": [],
   "source": [
    "# Criando a função de Laplace para os casos relevantes e irrelevantes. O smoothing foi usado apenas quando necessário devido\n",
    "# a precisão da máquina.\n",
    "\n",
    "def LaPlace_rel(word):\n",
    "    \n",
    "    if word not in list_rel:\n",
    "        #Suavização de LaPlace\n",
    "        k = 1/(len(list_rel)+len(list_sem_repeticao))\n",
    "    \n",
    "    else:\n",
    "        #Cálculo normal de probabilidade\n",
    "        k = freq_abs_rel[word]/freq_abs_rel.sum()\n",
    "    \n",
    "    return k\n",
    "\n",
    "def LaPlace_irrel(word):\n",
    "    \n",
    "    if word not in list_irrel:\n",
    "        #Suavização de LaPlace\n",
    "        prob = 1/(len(list_irrel)+len(list_sem_repeticao))\n",
    "    \n",
    "    else:\n",
    "        #Cálculo normal de probabilidade\n",
    "        prob = freq_abs_irrel[word]/freq_abs_irrel.sum()\n",
    "    \n",
    "    return prob"
   ]
  },
  {
   "cell_type": "markdown",
   "metadata": {},
   "source": [
    "### Naive Bayes:"
   ]
  },
  {
   "cell_type": "code",
   "execution_count": 23,
   "metadata": {},
   "outputs": [],
   "source": [
    "# Cálculo da probabilidade da frase ser relevante P(frase|Rel):\n",
    "def prob_rel(frase):\n",
    "    aux = limpatudo(frase)\n",
    "    p = 1\n",
    "    for word in aux:\n",
    "        p*= LaPlace_rel(word)\n",
    "    return p\n",
    "\n",
    "# Cálculo da probabilidade da frase ser irrelevante P(frase|Irrel):\n",
    "def prob_irrel(frase):\n",
    "    aux = limpatudo(frase)\n",
    "    p = 1\n",
    "    for word in aux:\n",
    "        p*= LaPlace_irrel(word)\n",
    "    return p\n",
    "\n",
    "# Determinação da categoria da frase pelo Algoritmo de Bayes:\n",
    "def Bayes(frase):\n",
    "    \n",
    "    #P(frase|Irrel) e P(frase|Rel): \n",
    "    pfrase_dadoRel = prob_rel(frase)\n",
    "    pfrase_dadoIrrel = prob_irrel(frase)\n",
    "    \n",
    "    #P(Irrel|frase) e P(Rel|frase):\n",
    "    P_rel_dado_frase = pfrase_dadoRel*P_R\n",
    "    P_irrel_dado_frase = pfrase_dadoIrrel*P_Ir\n",
    "    \n",
    "    #Classificação baseado nas probabilidades calculadas pelo algoritmo\n",
    "    if P_rel_dado_frase > P_irrel_dado_frase:\n",
    "        return 'RELEVANTE'\n",
    "    \n",
    "    return \"IRRELEVANTE\""
   ]
  },
  {
   "cell_type": "markdown",
   "metadata": {},
   "source": [
    "### Testando a performace a partir da própria Base de Dados"
   ]
  },
  {
   "cell_type": "code",
   "execution_count": 24,
   "metadata": {},
   "outputs": [],
   "source": [
    "performer = train.copy()"
   ]
  },
  {
   "cell_type": "code",
   "execution_count": 25,
   "metadata": {},
   "outputs": [
    {
     "data": {
      "text/html": [
       "<div>\n",
       "<style scoped>\n",
       "    .dataframe tbody tr th:only-of-type {\n",
       "        vertical-align: middle;\n",
       "    }\n",
       "\n",
       "    .dataframe tbody tr th {\n",
       "        vertical-align: top;\n",
       "    }\n",
       "\n",
       "    .dataframe thead th {\n",
       "        text-align: right;\n",
       "    }\n",
       "</style>\n",
       "<table border=\"1\" class=\"dataframe\">\n",
       "  <thead>\n",
       "    <tr style=\"text-align: right;\">\n",
       "      <th></th>\n",
       "      <th>Categoria</th>\n",
       "      <th>Titulo</th>\n",
       "      <th>PrimeiroParag</th>\n",
       "      <th>Data</th>\n",
       "      <th>Pagina</th>\n",
       "      <th>Target</th>\n",
       "      <th>CLEAN</th>\n",
       "      <th>Comp</th>\n",
       "    </tr>\n",
       "  </thead>\n",
       "  <tbody>\n",
       "    <tr>\n",
       "      <th>0</th>\n",
       "      <td>Mercados</td>\n",
       "      <td>Vale (VALE3): Por que as ações tiveram um dos ...</td>\n",
       "      <td>As ações da Vale (VALE3) tiveram um dos piores...</td>\n",
       "      <td>08/03/2022 - 19:35</td>\n",
       "      <td>4</td>\n",
       "      <td>RELEVANTE</td>\n",
       "      <td>val vale3 aco tiv pior desempenh ibovesp nest ...</td>\n",
       "      <td>RELEVANTE</td>\n",
       "    </tr>\n",
       "    <tr>\n",
       "      <th>1</th>\n",
       "      <td>Invasão da Ucrânia</td>\n",
       "      <td>Rússia invade Ucrânia: Veja as primeiras fotos...</td>\n",
       "      <td>O presidente Vladimir Putin autorizou, na noit...</td>\n",
       "      <td>24/02/2022 - 10:10</td>\n",
       "      <td>41</td>\n",
       "      <td>IRRELEVANTE</td>\n",
       "      <td>russ invad ucran vej primeir fot vid invasa</td>\n",
       "      <td>RELEVANTE</td>\n",
       "    </tr>\n",
       "    <tr>\n",
       "      <th>2</th>\n",
       "      <td>Economia</td>\n",
       "      <td>Brasil é beneficiado por empresas que convivem...</td>\n",
       "      <td>O presidente do Banco Central, Roberto Campos ...</td>\n",
       "      <td>22/02/2022 - 16:53</td>\n",
       "      <td>47</td>\n",
       "      <td>IRRELEVANTE</td>\n",
       "      <td>brasil benefic empres conviv bem inflaca diz c...</td>\n",
       "      <td>IRRELEVANTE</td>\n",
       "    </tr>\n",
       "    <tr>\n",
       "      <th>3</th>\n",
       "      <td>Resultados</td>\n",
       "      <td>Bayer supera expectativa e tem lucro líquido d...</td>\n",
       "      <td>A Bayer obteve lucro líquido de 1,16 bilhão de...</td>\n",
       "      <td>02/03/2022 - 11:23</td>\n",
       "      <td>24</td>\n",
       "      <td>RELEVANTE</td>\n",
       "      <td>bay sup expect lucr liqu 1 16 bilha eur 4o tri</td>\n",
       "      <td>RELEVANTE</td>\n",
       "    </tr>\n",
       "    <tr>\n",
       "      <th>4</th>\n",
       "      <td>Colunista Vitreo</td>\n",
       "      <td>Pré-Mercado: E o petróleo vai às alturas</td>\n",
       "      <td>O mercado sofre bastante internacionalmente, a...</td>\n",
       "      <td>07/03/2022 - 8:46</td>\n",
       "      <td>11</td>\n",
       "      <td>RELEVANTE</td>\n",
       "      <td>pre-merc petrol vai altur</td>\n",
       "      <td>IRRELEVANTE</td>\n",
       "    </tr>\n",
       "  </tbody>\n",
       "</table>\n",
       "</div>"
      ],
      "text/plain": [
       "             Categoria                                             Titulo  \\\n",
       "0            Mercados   Vale (VALE3): Por que as ações tiveram um dos ...   \n",
       "1  Invasão da Ucrânia   Rússia invade Ucrânia: Veja as primeiras fotos...   \n",
       "2            Economia   Brasil é beneficiado por empresas que convivem...   \n",
       "3          Resultados   Bayer supera expectativa e tem lucro líquido d...   \n",
       "4    Colunista Vitreo            Pré-Mercado: E o petróleo vai às alturas   \n",
       "\n",
       "                                       PrimeiroParag                Data  \\\n",
       "0  As ações da Vale (VALE3) tiveram um dos piores...  08/03/2022 - 19:35   \n",
       "1  O presidente Vladimir Putin autorizou, na noit...  24/02/2022 - 10:10   \n",
       "2  O presidente do Banco Central, Roberto Campos ...  22/02/2022 - 16:53   \n",
       "3  A Bayer obteve lucro líquido de 1,16 bilhão de...  02/03/2022 - 11:23   \n",
       "4  O mercado sofre bastante internacionalmente, a...   07/03/2022 - 8:46   \n",
       "\n",
       "   Pagina       Target                                              CLEAN  \\\n",
       "0       4    RELEVANTE  val vale3 aco tiv pior desempenh ibovesp nest ...   \n",
       "1      41  IRRELEVANTE        russ invad ucran vej primeir fot vid invasa   \n",
       "2      47  IRRELEVANTE  brasil benefic empres conviv bem inflaca diz c...   \n",
       "3      24    RELEVANTE     bay sup expect lucr liqu 1 16 bilha eur 4o tri   \n",
       "4      11    RELEVANTE                          pre-merc petrol vai altur   \n",
       "\n",
       "          Comp  \n",
       "0    RELEVANTE  \n",
       "1    RELEVANTE  \n",
       "2  IRRELEVANTE  \n",
       "3    RELEVANTE  \n",
       "4  IRRELEVANTE  "
      ]
     },
     "execution_count": 25,
     "metadata": {},
     "output_type": "execute_result"
    }
   ],
   "source": [
    "performer['CLEAN'] = performer['Titulo'].apply(limpatudo)\n",
    "performer['Comp'] = performer.CLEAN.apply(Bayes)\n",
    "\n",
    "performer.head(5)"
   ]
  },
  {
   "cell_type": "code",
   "execution_count": 26,
   "metadata": {},
   "outputs": [
    {
     "name": "stdout",
     "output_type": "stream",
     "text": [
      "O percentual de verdadeiros negativo foi de: 24.33%\n",
      "O percentual de falsos negativo foi de: 21.00%\n"
     ]
    }
   ],
   "source": [
    "\n",
    "verdadeiros_negativos = performer.loc[(performer['Comp'] == 'IRRELEVANTE') & (performer['Target'] == 'IRRELEVANTE'),:].shape[0]\n",
    "falsos_negativos = performer.loc[(performer['Comp'] == 'IRRELEVANTE') & (performer['Target'] == 'RELEVANTE'),:].shape[0]\n",
    "\n",
    "print(f'O percentual de verdadeiros negativo foi de: {100*(verdadeiros_negativos)/performer.shape[0]:.2f}%')\n",
    "print(f'O percentual de falsos negativo foi de: {100*(falsos_negativos)/performer.shape[0]:.2f}%')"
   ]
  },
  {
   "cell_type": "code",
   "execution_count": 27,
   "metadata": {},
   "outputs": [
    {
     "name": "stdout",
     "output_type": "stream",
     "text": [
      "O percentual de verdadeiros positivos foi de: 34.33%\n",
      "O percentual de falsos positivos foi de: 20.33%\n"
     ]
    }
   ],
   "source": [
    "\n",
    "verdadeiros_positivos = performer.loc[(performer['Comp'] == 'RELEVANTE') & (performer['Target'] == 'RELEVANTE'),:].shape[0]\n",
    "falsos_positivos = performer.loc[(performer['Comp'] == 'RELEVANTE') & (performer['Target'] == 'IRRELEVANTE'),:].shape[0]\n",
    "\n",
    "print(f'O percentual de verdadeiros positivos foi de: {100*(verdadeiros_positivos)/performer.shape[0]:.2f}%')\n",
    "print(f'O percentual de falsos positivos foi de: {100*(falsos_positivos)/performer.shape[0]:.2f}%')"
   ]
  },
  {
   "cell_type": "markdown",
   "metadata": {},
   "source": [
    "### Matriz de Confusão\n",
    "    Ajuda a visualizar melhor as porcentagens de acertos e erros do Modelo"
   ]
  },
  {
   "cell_type": "code",
   "execution_count": 28,
   "metadata": {},
   "outputs": [
    {
     "data": {
      "image/png": "[encoded data removed]",
      "text/plain": [
       "<Figure size 720x504 with 2 Axes>"
      ]
     },
     "metadata": {
      "needs_background": "light"
     },
     "output_type": "display_data"
    }
   ],
   "source": [
    "tabela_cruzada = pd.crosstab(performer.Target, performer.Comp, normalize=True)\n",
    "plt.figure(figsize=(10,7))\n",
    "plt.title('Matriz de confusão')\n",
    "sn.heatmap(tabela_cruzada, annot=True, annot_kws={\"size\": 30}, fmt='.1%', cmap='YlGnBu')\n",
    "plt.show()"
   ]
  },
  {
   "cell_type": "markdown",
   "metadata": {},
   "source": [
    "___\n",
    "### Verificando a performance do Classificador\n",
    "\n",
    "Agora você deve testar o seu classificador com a base de Testes."
   ]
  },
  {
   "cell_type": "code",
   "execution_count": 29,
   "metadata": {},
   "outputs": [],
   "source": [
    "Verifier = test.copy()"
   ]
  },
  {
   "cell_type": "code",
   "execution_count": 30,
   "metadata": {},
   "outputs": [
    {
     "data": {
      "text/html": [
       "<div>\n",
       "<style scoped>\n",
       "    .dataframe tbody tr th:only-of-type {\n",
       "        vertical-align: middle;\n",
       "    }\n",
       "\n",
       "    .dataframe tbody tr th {\n",
       "        vertical-align: top;\n",
       "    }\n",
       "\n",
       "    .dataframe thead th {\n",
       "        text-align: right;\n",
       "    }\n",
       "</style>\n",
       "<table border=\"1\" class=\"dataframe\">\n",
       "  <thead>\n",
       "    <tr style=\"text-align: right;\">\n",
       "      <th></th>\n",
       "      <th>Categoria</th>\n",
       "      <th>Titulo</th>\n",
       "      <th>PrimeiroParag</th>\n",
       "      <th>Data</th>\n",
       "      <th>Pagina</th>\n",
       "      <th>Target</th>\n",
       "      <th>CLEAN</th>\n",
       "      <th>Comp</th>\n",
       "    </tr>\n",
       "  </thead>\n",
       "  <tbody>\n",
       "    <tr>\n",
       "      <th>0</th>\n",
       "      <td>Internacional</td>\n",
       "      <td>Joe Biden: 20 frases marcantes de seu 1º discu...</td>\n",
       "      <td>NaN</td>\n",
       "      <td>01/03/2022 - 22:56</td>\n",
       "      <td>25</td>\n",
       "      <td>IRRELEVANTE</td>\n",
       "      <td>joe biden 20 fras marcant 1o discurs estad unia</td>\n",
       "      <td>RELEVANTE</td>\n",
       "    </tr>\n",
       "    <tr>\n",
       "      <th>1</th>\n",
       "      <td>Política</td>\n",
       "      <td>Biden anuncia proibição dos EUA a importações ...</td>\n",
       "      <td>O presidente dos Estados Unidos, Joe Biden, an...</td>\n",
       "      <td>08/03/2022 - 13:52</td>\n",
       "      <td>6</td>\n",
       "      <td>RELEVANTE</td>\n",
       "      <td>biden anunc proibica eua importaco petrol russ</td>\n",
       "      <td>RELEVANTE</td>\n",
       "    </tr>\n",
       "    <tr>\n",
       "      <th>2</th>\n",
       "      <td>Internacional</td>\n",
       "      <td>China critica EUA e não condena Rússia por açã...</td>\n",
       "      <td>A China se recusou a condenar o ataque da Rúss...</td>\n",
       "      <td>24/02/2022 - 12:08</td>\n",
       "      <td>40</td>\n",
       "      <td>IRRELEVANTE</td>\n",
       "      <td>chin critic eua nao conden russ aca ucran</td>\n",
       "      <td>IRRELEVANTE</td>\n",
       "    </tr>\n",
       "    <tr>\n",
       "      <th>3</th>\n",
       "      <td>Mercados</td>\n",
       "      <td>S&amp;P 500 abre em forte queda após Rússia atacar...</td>\n",
       "      <td>As bolsas dos Estados Unidos abriram em forte ...</td>\n",
       "      <td>24/02/2022 - 11:37</td>\n",
       "      <td>40</td>\n",
       "      <td>RELEVANTE</td>\n",
       "      <td>s p 500 abre fort qued apos russ atac ucrania;...</td>\n",
       "      <td>RELEVANTE</td>\n",
       "    </tr>\n",
       "    <tr>\n",
       "      <th>4</th>\n",
       "      <td>Carteira Recomendada</td>\n",
       "      <td>Genial faz duas alterações em carteira recomen...</td>\n",
       "      <td>A Genial Investimentos fez duas alterações em ...</td>\n",
       "      <td>28/02/2022 - 15:53</td>\n",
       "      <td>27</td>\n",
       "      <td>IRRELEVANTE</td>\n",
       "      <td>genial faz duas alteraco carteir recomend par ...</td>\n",
       "      <td>IRRELEVANTE</td>\n",
       "    </tr>\n",
       "  </tbody>\n",
       "</table>\n",
       "</div>"
      ],
      "text/plain": [
       "               Categoria                                             Titulo  \\\n",
       "0         Internacional   Joe Biden: 20 frases marcantes de seu 1º discu...   \n",
       "1              Política   Biden anuncia proibição dos EUA a importações ...   \n",
       "2         Internacional   China critica EUA e não condena Rússia por açã...   \n",
       "3              Mercados   S&P 500 abre em forte queda após Rússia atacar...   \n",
       "4  Carteira Recomendada   Genial faz duas alterações em carteira recomen...   \n",
       "\n",
       "                                       PrimeiroParag                Data  \\\n",
       "0                                                NaN  01/03/2022 - 22:56   \n",
       "1  O presidente dos Estados Unidos, Joe Biden, an...  08/03/2022 - 13:52   \n",
       "2  A China se recusou a condenar o ataque da Rúss...  24/02/2022 - 12:08   \n",
       "3  As bolsas dos Estados Unidos abriram em forte ...  24/02/2022 - 11:37   \n",
       "4  A Genial Investimentos fez duas alterações em ...  28/02/2022 - 15:53   \n",
       "\n",
       "   Pagina       Target                                              CLEAN  \\\n",
       "0      25  IRRELEVANTE    joe biden 20 fras marcant 1o discurs estad unia   \n",
       "1       6    RELEVANTE     biden anunc proibica eua importaco petrol russ   \n",
       "2      40  IRRELEVANTE          chin critic eua nao conden russ aca ucran   \n",
       "3      40    RELEVANTE  s p 500 abre fort qued apos russ atac ucrania;...   \n",
       "4      27  IRRELEVANTE  genial faz duas alteraco carteir recomend par ...   \n",
       "\n",
       "          Comp  \n",
       "0    RELEVANTE  \n",
       "1    RELEVANTE  \n",
       "2  IRRELEVANTE  \n",
       "3    RELEVANTE  \n",
       "4  IRRELEVANTE  "
      ]
     },
     "execution_count": 30,
     "metadata": {},
     "output_type": "execute_result"
    }
   ],
   "source": [
    "Verifier['CLEAN'] = Verifier['Titulo'].apply(limpatudo)\n",
    "Verifier['Comp'] = Verifier.CLEAN.apply(Bayes)\n",
    "\n",
    "Verifier.head(5)"
   ]
  },
  {
   "cell_type": "code",
   "execution_count": 31,
   "metadata": {},
   "outputs": [
    {
     "data": {
      "image/png": "[encoded data removed]",
      "text/plain": [
       "<Figure size 720x504 with 2 Axes>"
      ]
     },
     "metadata": {
      "needs_background": "light"
     },
     "output_type": "display_data"
    }
   ],
   "source": [
    "tabela_cruzada = pd.crosstab(Verifier.Target, Verifier.Comp, normalize=True)\n",
    "plt.figure(figsize=(10,7))\n",
    "plt.title('Matriz de confusão')\n",
    "sn.heatmap(tabela_cruzada, annot=True, annot_kws={\"size\": 30}, fmt='.1%', cmap='YlGnBu')\n",
    "plt.show()"
   ]
  },
  {
   "cell_type": "code",
   "execution_count": 32,
   "metadata": {},
   "outputs": [
    {
     "name": "stdout",
     "output_type": "stream",
     "text": [
      "O percentual de verdadeiros negativo foi de: 24.50%\n",
      "O percentual de falsos negativo foi de: 16.50%\n"
     ]
    }
   ],
   "source": [
    "verdadeiros_negativos = Verifier.loc[(Verifier['Comp'] == 'IRRELEVANTE') & (Verifier['Target'] == 'IRRELEVANTE'),:].shape[0]\n",
    "falsos_negativos = Verifier.loc[(Verifier['Comp'] == 'IRRELEVANTE') & (Verifier['Target'] == 'RELEVANTE'),:].shape[0]\n",
    "\n",
    "print(f'O percentual de verdadeiros negativo foi de: {100*(verdadeiros_negativos)/Verifier.shape[0]:.2f}%')\n",
    "print(f'O percentual de falsos negativo foi de: {100*(falsos_negativos)/Verifier.shape[0]:.2f}%')"
   ]
  },
  {
   "cell_type": "code",
   "execution_count": 33,
   "metadata": {},
   "outputs": [
    {
     "name": "stdout",
     "output_type": "stream",
     "text": [
      "O percentual de verdadeiros positivos foi de: 22.50%\n",
      "O percentual de falsos positivos foi de: 36.50%\n"
     ]
    }
   ],
   "source": [
    "verdadeiros_positivos = Verifier.loc[(Verifier['Comp'] == 'RELEVANTE') & (Verifier['Target'] == 'RELEVANTE'),:].shape[0]\n",
    "falsos_positivos = Verifier.loc[(Verifier['Comp'] == 'RELEVANTE') & (Verifier['Target'] == 'IRRELEVANTE'),:].shape[0]\n",
    "\n",
    "print(f'O percentual de verdadeiros positivos foi de: {100*(verdadeiros_positivos)/Verifier.shape[0]:.2f}%')\n",
    "print(f'O percentual de falsos positivos foi de: {100*(falsos_positivos)/Verifier.shape[0]:.2f}%')"
   ]
  },
  {
   "cell_type": "code",
   "execution_count": 34,
   "metadata": {},
   "outputs": [
    {
     "name": "stdout",
     "output_type": "stream",
     "text": [
      "A acurácia do modelo foi de: 47.00%\n"
     ]
    }
   ],
   "source": [
    "print(f'A acurácia do modelo foi de: {100*(verdadeiros_negativos+verdadeiros_positivos)/test.shape[0]:.2f}%')"
   ]
  },
  {
   "cell_type": "markdown",
   "metadata": {},
   "source": [
    "___\n",
    "### Concluindo"
   ]
  },
  {
   "cell_type": "code",
   "execution_count": 35,
   "metadata": {},
   "outputs": [],
   "source": [
    "# Fala sobre a eficiência do Classificador e porque ele deu esses resultados, ver pelo do Valentim ou por algum dos veteranos.\n",
    "# ignore códigos."
   ]
  },
  {
   "cell_type": "markdown",
   "metadata": {},
   "source": [
    "### Outras Aplicações para Naive Bayes"
   ]
  },
  {
   "cell_type": "code",
   "execution_count": null,
   "metadata": {},
   "outputs": [],
   "source": [
    "# Censura em vídeos (pesquise um pouco)"
   ]
  },
  {
   "cell_type": "markdown",
   "metadata": {},
   "source": [
    "### Sugestôes de melhorias"
   ]
  },
  {
   "cell_type": "code",
   "execution_count": null,
   "metadata": {},
   "outputs": [],
   "source": [
    "# Se inspire em algum dos veteranos ou pergunte pro Cleilton"
   ]
  },
  {
   "cell_type": "markdown",
   "metadata": {},
   "source": [
    "___\n",
    "### Qualidade do Classificador a partir de novas separações das notícias entre Treinamento e Teste\n",
    "\n",
    "Caso for fazer esse item do Projeto"
   ]
  },
  {
   "cell_type": "code",
   "execution_count": 39,
   "metadata": {},
   "outputs": [
    {
     "data": {
      "text/html": [
       "<div>\n",
       "<style scoped>\n",
       "    .dataframe tbody tr th:only-of-type {\n",
       "        vertical-align: middle;\n",
       "    }\n",
       "\n",
       "    .dataframe tbody tr th {\n",
       "        vertical-align: top;\n",
       "    }\n",
       "\n",
       "    .dataframe thead th {\n",
       "        text-align: right;\n",
       "    }\n",
       "</style>\n",
       "<table border=\"1\" class=\"dataframe\">\n",
       "  <thead>\n",
       "    <tr style=\"text-align: right;\">\n",
       "      <th></th>\n",
       "      <th>Categoria</th>\n",
       "      <th>Total</th>\n",
       "      <th>PrimeiroParag</th>\n",
       "      <th>Data</th>\n",
       "      <th>Pagina</th>\n",
       "      <th>Target</th>\n",
       "      <th>Clean</th>\n",
       "    </tr>\n",
       "  </thead>\n",
       "  <tbody>\n",
       "    <tr>\n",
       "      <th>0</th>\n",
       "      <td>Mercados</td>\n",
       "      <td>Vale (VALE3): Por que as ações tiveram um dos ...</td>\n",
       "      <td>As ações da Vale (VALE3) tiveram um dos piores...</td>\n",
       "      <td>08/03/2022 - 19:35</td>\n",
       "      <td>4</td>\n",
       "      <td>RELEVANTE</td>\n",
       "      <td>val vale3 aco tiv pior desempenh ibovesp nest ...</td>\n",
       "    </tr>\n",
       "    <tr>\n",
       "      <th>1</th>\n",
       "      <td>Invasão da Ucrânia</td>\n",
       "      <td>Rússia invade Ucrânia: Veja as primeiras fotos...</td>\n",
       "      <td>O presidente Vladimir Putin autorizou, na noit...</td>\n",
       "      <td>24/02/2022 - 10:10</td>\n",
       "      <td>41</td>\n",
       "      <td>IRRELEVANTE</td>\n",
       "      <td>russ invad ucran vej primeir fot vid invasa</td>\n",
       "    </tr>\n",
       "    <tr>\n",
       "      <th>2</th>\n",
       "      <td>Economia</td>\n",
       "      <td>Brasil é beneficiado por empresas que convivem...</td>\n",
       "      <td>O presidente do Banco Central, Roberto Campos ...</td>\n",
       "      <td>22/02/2022 - 16:53</td>\n",
       "      <td>47</td>\n",
       "      <td>IRRELEVANTE</td>\n",
       "      <td>brasil benefic empres conviv bem inflaca diz c...</td>\n",
       "    </tr>\n",
       "    <tr>\n",
       "      <th>3</th>\n",
       "      <td>Resultados</td>\n",
       "      <td>Bayer supera expectativa e tem lucro líquido d...</td>\n",
       "      <td>A Bayer obteve lucro líquido de 1,16 bilhão de...</td>\n",
       "      <td>02/03/2022 - 11:23</td>\n",
       "      <td>24</td>\n",
       "      <td>RELEVANTE</td>\n",
       "      <td>bay sup expect lucr liqu 1 16 bilha eur 4o tri</td>\n",
       "    </tr>\n",
       "    <tr>\n",
       "      <th>4</th>\n",
       "      <td>Colunista Vitreo</td>\n",
       "      <td>Pré-Mercado: E o petróleo vai às alturas</td>\n",
       "      <td>O mercado sofre bastante internacionalmente, a...</td>\n",
       "      <td>07/03/2022 - 8:46</td>\n",
       "      <td>11</td>\n",
       "      <td>RELEVANTE</td>\n",
       "      <td>pre-merc petrol vai altur</td>\n",
       "    </tr>\n",
       "  </tbody>\n",
       "</table>\n",
       "</div>"
      ],
      "text/plain": [
       "             Categoria                                              Total  \\\n",
       "0            Mercados   Vale (VALE3): Por que as ações tiveram um dos ...   \n",
       "1  Invasão da Ucrânia   Rússia invade Ucrânia: Veja as primeiras fotos...   \n",
       "2            Economia   Brasil é beneficiado por empresas que convivem...   \n",
       "3          Resultados   Bayer supera expectativa e tem lucro líquido d...   \n",
       "4    Colunista Vitreo            Pré-Mercado: E o petróleo vai às alturas   \n",
       "\n",
       "                                       PrimeiroParag                Data  \\\n",
       "0  As ações da Vale (VALE3) tiveram um dos piores...  08/03/2022 - 19:35   \n",
       "1  O presidente Vladimir Putin autorizou, na noit...  24/02/2022 - 10:10   \n",
       "2  O presidente do Banco Central, Roberto Campos ...  22/02/2022 - 16:53   \n",
       "3  A Bayer obteve lucro líquido de 1,16 bilhão de...  02/03/2022 - 11:23   \n",
       "4  O mercado sofre bastante internacionalmente, a...   07/03/2022 - 8:46   \n",
       "\n",
       "   Pagina       Target                                              Clean  \n",
       "0       4    RELEVANTE  val vale3 aco tiv pior desempenh ibovesp nest ...  \n",
       "1      41  IRRELEVANTE        russ invad ucran vej primeir fot vid invasa  \n",
       "2      47  IRRELEVANTE  brasil benefic empres conviv bem inflaca diz c...  \n",
       "3      24    RELEVANTE     bay sup expect lucr liqu 1 16 bilha eur 4o tri  \n",
       "4      11    RELEVANTE                          pre-merc petrol vai altur  "
      ]
     },
     "execution_count": 39,
     "metadata": {},
     "output_type": "execute_result"
    }
   ],
   "source": [
    "test_split = pd.read_excel(filename, sheet_name = 'Teste').rename(columns={'Titulo':'Total'})\n",
    "\n",
    "train_split = pd.read_excel(filename, sheet_name = 'Treinamento').rename(columns={'Titulo':'Total'})\n",
    "\n",
    "#Concatenando\n",
    "all_news = pd.concat([train_split,test_split])\n",
    "\n",
    "#Limpando os tweets\n",
    "all_news['Clean']=all_news['Total'].apply(limpatudo)\n",
    "all_news.head()"
   ]
  },
  {
   "cell_type": "code",
   "execution_count": 40,
   "metadata": {},
   "outputs": [],
   "source": [
    "# Biblioteca necessária para fatiamento do conjunto de dados totais\n",
    "from sklearn.model_selection import train_test_split"
   ]
  },
  {
   "cell_type": "code",
   "execution_count": 45,
   "metadata": {},
   "outputs": [],
   "source": [
    "# Realiza o fatiamento do conjunto total 100 vezes de maneira aleatória\n",
    "lista_hist=[]\n",
    "\n",
    "for i in range(150):\n",
    "    \n",
    "    #training_data, testing_data = train_test_split(full_data, test_size=0.2, random_state=random.randint(1,500))\n",
    "    #Separa o novo Data_Frame em 2 novos 'Treino' e 'Teste'  na proporção 3 pra 2.\n",
    "    X_train, X_test, y_train, y_test = train_test_split(all_news[['Clean','Target']], all_news.Target, test_size=0.4)\n",
    "    \n",
    "    #repete-se os passos iniciais para aplicação do algoritmo de Bayes\n",
    "    train_rel_new = X_train[X_train['Target']=='RELEVANTE']\n",
    "    train_irrel_new = X_train[X_train['Target']==\"IRRELEVANTE\"]\n",
    "    \n",
    "    palavras_rel = serie(train_rel_new['Clean'])\n",
    "    palavras_irrel = serie(train_irrel_new['Clean'])\n",
    "    \n",
    "    # Gera duas listas com as palavras relevantes e irrelevantes e gera uma lista total\n",
    "    lista_palavras_rel = list(palavras_rel)\n",
    "    lista_palavras_irrel = list(palavras_irrel)\n",
    "    lista_palavras = lista_palavras_rel + lista_palavras_irrel\n",
    "    lista_palavras_sem_repeticao = list(set(lista_palavras))\n",
    "    total = pd.Series(lista_palavras)\n",
    "\n",
    "    # Frequencias absolutas\n",
    "    freq_palavras_relevantes_abs = palavras_rel.value_counts()\n",
    "    freq_palavras_irrelevantes_abs = palavras_irrel.value_counts()\n",
    "    freq_palavras_total_abs = total.value_counts()\n",
    "\n",
    "    P_R = len(lista_palavras_rel) / len(total)\n",
    "\n",
    "    # Por complementar, temos P_Rc\n",
    "    P_Rc = len(lista_palavras_irrel) / len(total)\n",
    "    \n",
    "    assert P_R+P_Rc==1\n",
    "\n",
    "    #Aplicação de Bayes a partir da nova base de testes e salva os resultados de acuracia em uma lista\n",
    "    X_test['Modelo'] = X_test['Clean'].apply(Bayes)\n",
    "\n",
    "    verdadeiros_positivos = X_test.loc[(X_test['Modelo'] == 'RELEVANTE') & (X_test['Target'] == 'RELEVANTE'),:].shape[0]\n",
    "    verdadeiros_negativos = X_test.loc[(X_test['Modelo'] == 'IRRELEVANTE') & (X_test['Target'] == 'IRRELEVANTE'),:].shape[0]\n",
    "    acuracia = (verdadeiros_positivos + verdadeiros_negativos)/X_test.shape[0]\n",
    "    lista_hist.append(acuracia * 100)"
   ]
  },
  {
   "cell_type": "code",
   "execution_count": 46,
   "metadata": {},
   "outputs": [
    {
     "data": {
      "image/png": "[encoded data removed]",
      "text/plain": [
       "<Figure size 720x360 with 1 Axes>"
      ]
     },
     "metadata": {
      "needs_background": "light"
     },
     "output_type": "display_data"
    }
   ],
   "source": [
    "# Monta um histograma com a frequência de acuracia do modelo partindo das novas divisões\n",
    "\n",
    "faixa=np.arange(30,99,1)\n",
    "plt.figure(figsize=(10, 5))\n",
    "plt.hist(lista_hist, bins=faixa, edgecolor='black', density=False)\n",
    "plt.title('Frequencia dos scores do modelo')\n",
    "plt.ylabel('Frequência')\n",
    "plt.xlabel('Porcentagem de acerto (%)')\n",
    "plt.xlim(45,65)\n",
    "plt.show()"
   ]
  },
  {
   "cell_type": "code",
   "execution_count": 43,
   "metadata": {},
   "outputs": [
    {
     "name": "stdout",
     "output_type": "stream",
     "text": [
      "Score máximo:  62.5\n",
      "Score mínimo:  48.5\n",
      "Score médio:  55.3\n"
     ]
    }
   ],
   "source": [
    "print('Score máximo: ', round(max(lista_hist), 2))\n",
    "print('Score mínimo: ', round(min(lista_hist), 2))\n",
    "print('Score médio: ', round(sum(lista_hist)/len(lista_hist), 2))"
   ]
  },
  {
   "cell_type": "code",
   "execution_count": 47,
   "metadata": {},
   "outputs": [],
   "source": [
    "#Breve descrição dos novos resultados"
   ]
  },
  {
   "cell_type": "markdown",
   "metadata": {},
   "source": [
    "### Criação de Novas Categorias"
   ]
  },
  {
   "cell_type": "code",
   "execution_count": 48,
   "metadata": {},
   "outputs": [],
   "source": [
    "def Bayes_cat(frase):\n",
    "    # Calculo da diferença relativa entre as probabilidades\n",
    "    relative = (prob_rel(frase) - prob_irrel(frase))/(prob_rel(frase) + prob_irrel(frase))\n",
    "    return relative"
   ]
  },
  {
   "cell_type": "code",
   "execution_count": 49,
   "metadata": {},
   "outputs": [
    {
     "data": {
      "text/plain": [
       "0      0.985505\n",
       "1      0.048568\n",
       "2     -0.658399\n",
       "3      0.999802\n",
       "4     -0.934699\n",
       "         ...   \n",
       "195   -0.997438\n",
       "196    0.976684\n",
       "197    0.663939\n",
       "198   -0.709183\n",
       "199   -0.982667\n",
       "Name: Prob, Length: 200, dtype: float64"
      ]
     },
     "execution_count": 49,
     "metadata": {},
     "output_type": "execute_result"
    }
   ],
   "source": [
    "#Criação de novo data_frame para separação das categorias\n",
    "test_degree = Verifier.copy()\n",
    "test_degree['Prob']=test_degree['CLEAN'].apply(Bayes_cat)\n",
    "test_degree.Prob"
   ]
  },
  {
   "cell_type": "code",
   "execution_count": 114,
   "metadata": {},
   "outputs": [],
   "source": [
    "#Separação das categorias\n",
    "def Categoria(p):\n",
    "    p = float(p)\n",
    "    \n",
    "    # Se a diferença relativa for baixa, considera-se neutro\n",
    "    if abs(p) <= 0.2:\n",
    "        return 'Neutro'\n",
    "    \n",
    "    elif 0.2 < p and p <=0.6:\n",
    "        return 'Relevante'\n",
    "    \n",
    "    elif 0.6 < p:\n",
    "        return 'Muito Relevante'\n",
    "    \n",
    "    elif -0.2 > p and p >= -0.6:\n",
    "        return 'Irrelevante'\n",
    "    \n",
    "    else:\n",
    "        return 'Muito Irrelevante'\n",
    "    "
   ]
  },
  {
   "cell_type": "code",
   "execution_count": 115,
   "metadata": {},
   "outputs": [
    {
     "data": {
      "text/plain": [
       "Muito Relevante      79\n",
       "Muito Irrelevante    67\n",
       "Relevante            23\n",
       "Neutro               18\n",
       "Irrelevante          13\n",
       "Name: Relevancia, dtype: int64"
      ]
     },
     "execution_count": 115,
     "metadata": {},
     "output_type": "execute_result"
    }
   ],
   "source": [
    "test_degree['Relevancia'] = test_degree.Prob.apply(Categoria)\n",
    "test_degree.Relevancia.value_counts()"
   ]
  },
  {
   "cell_type": "markdown",
   "metadata": {},
   "source": [
    "___\n",
    "## Aperfeiçoamento:\n",
    "\n",
    "Trabalhos que conseguirem pelo menos conceito B vão evoluir em conceito dependendo da quantidade de itens avançados:\n",
    "\n",
    "* IMPLEMENTOU outras limpezas e transformações que não afetem a qualidade da informação contida nas notícias. Ex: stemming, lemmatization, stopwords\n",
    "* CONSIDEROU mais de duas caterogias na variável Target e INCREMENTOU a quantidade de notícias, mantendo pelo menos 250 notícias por caterogia (OBRIGATÓRIO PARA TRIOS, sem contar como item avançado)\n",
    "* Para Target com duas categorias: CRIOU pelo menos quatro categorias intermediárias de relevância baseadas na probabilidade: ex.: muito relevante, relevante, neutro, irrelevante, muito irrelevante\n",
    "* EXPLICOU porquê não pode usar o próprio classificador para gerar mais amostras de treinamento\n",
    "* PROPÔS diferentes cenários para Naïve Bayes fora do contexto do projeto (pelo menos dois cenários, exceto aqueles já apresentados em sala pelos professores: por exemplo, filtro de spam)\n",
    "* SUGERIU e EXPLICOU melhorias reais com indicações concretas de como implementar (indicar como fazer e indicar material de pesquisa)\n",
    "* FEZ o item Qualidade do Classificador a partir de novas separações das Notícias entre Treinamento e Teste descrito no enunciado do projeto (OBRIGATÓRIO para conceitos A ou A+)"
   ]
  },
  {
   "cell_type": "markdown",
   "metadata": {},
   "source": [
    "___\n",
    "## Referências"
   ]
  },
  {
   "cell_type": "markdown",
   "metadata": {},
   "source": [
    "[Naive Bayes and Text Classification](https://arxiv.org/pdf/1410.5329.pdf)  **Mais completo**\n",
    "\n",
    "[A practical explanation of a Naive Bayes Classifier](https://monkeylearn.com/blog/practical-explanation-naive-bayes-classifier/) **Mais simples**"
   ]
  },
  {
   "cell_type": "code",
   "execution_count": null,
   "metadata": {},
   "outputs": [],
   "source": []
  }
 ],
 "metadata": {
  "kernelspec": {
   "display_name": "Python 3",
   "language": "python",
   "name": "python3"
  },
  "language_info": {
   "codemirror_mode": {
    "name": "ipython",
    "version": 3
   },
   "file_extension": ".py",
   "mimetype": "text/x-python",
   "name": "python",
   "nbconvert_exporter": "python",
   "pygments_lexer": "ipython3",
   "version": "3.8.8"
  }
 },
 "nbformat": 4,
 "nbformat_minor": 4
}
